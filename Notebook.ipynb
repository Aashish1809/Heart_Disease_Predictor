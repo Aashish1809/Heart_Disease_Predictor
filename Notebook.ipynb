{
 "cells": [
  {
   "cell_type": "code",
   "execution_count": 1,
   "metadata": {},
   "outputs": [],
   "source": [
    "#importing all necessary packages, libraries and frameworks.\n",
    "import numpy as np\n",
    "import types\n",
    "import pandas as pd\n",
    "import matplotlib as mlp\n",
    "import seaborn as sns\n",
    "import matplotlib.pyplot as plt\n",
    "from sklearn import preprocessing\n",
    "from sklearn.neighbors import KNeighborsClassifier\n",
    "from sklearn.tree import DecisionTreeClassifier\n",
    "from sklearn.linear_model import LogisticRegression\n",
    "from sklearn.model_selection import train_test_split\n",
    "from sklearn import svm\n",
    "from sklearn import metrics\n",
    "from sklearn.metrics import log_loss\n",
    "from sklearn.metrics import f1_score\n",
    "from botocore.client import Config\n",
    "import ibm_boto3"
   ]
  },
  {
   "cell_type": "code",
   "execution_count": 2,
   "metadata": {},
   "outputs": [
    {
     "data": {
      "text/html": [
       "<div>\n",
       "<style scoped>\n",
       "    .dataframe tbody tr th:only-of-type {\n",
       "        vertical-align: middle;\n",
       "    }\n",
       "\n",
       "    .dataframe tbody tr th {\n",
       "        vertical-align: top;\n",
       "    }\n",
       "\n",
       "    .dataframe thead th {\n",
       "        text-align: right;\n",
       "    }\n",
       "</style>\n",
       "<table border=\"1\" class=\"dataframe\">\n",
       "  <thead>\n",
       "    <tr style=\"text-align: right;\">\n",
       "      <th></th>\n",
       "      <th>Age</th>\n",
       "      <th>Sex</th>\n",
       "      <th>Chest Pain Type</th>\n",
       "      <th>Blood Pressure</th>\n",
       "      <th>Cholestrol</th>\n",
       "      <th>Blood Sugar</th>\n",
       "      <th>Electrocardiac Measurement at Rest</th>\n",
       "      <th>Maximum Heart Rate</th>\n",
       "      <th>Exercise indused Angina</th>\n",
       "      <th>ST Depression Induced</th>\n",
       "      <th>Slope of Peak Exercise ST Segment</th>\n",
       "      <th>Number of Major Vessels</th>\n",
       "      <th>Thalassemia</th>\n",
       "      <th>Prediction</th>\n",
       "    </tr>\n",
       "  </thead>\n",
       "  <tbody>\n",
       "    <tr>\n",
       "      <th>0</th>\n",
       "      <td>63</td>\n",
       "      <td>1</td>\n",
       "      <td>3</td>\n",
       "      <td>145</td>\n",
       "      <td>233</td>\n",
       "      <td>1</td>\n",
       "      <td>0</td>\n",
       "      <td>150</td>\n",
       "      <td>0</td>\n",
       "      <td>2.3</td>\n",
       "      <td>0</td>\n",
       "      <td>0</td>\n",
       "      <td>1</td>\n",
       "      <td>1</td>\n",
       "    </tr>\n",
       "    <tr>\n",
       "      <th>1</th>\n",
       "      <td>37</td>\n",
       "      <td>1</td>\n",
       "      <td>2</td>\n",
       "      <td>130</td>\n",
       "      <td>250</td>\n",
       "      <td>0</td>\n",
       "      <td>1</td>\n",
       "      <td>187</td>\n",
       "      <td>0</td>\n",
       "      <td>3.5</td>\n",
       "      <td>0</td>\n",
       "      <td>0</td>\n",
       "      <td>2</td>\n",
       "      <td>1</td>\n",
       "    </tr>\n",
       "    <tr>\n",
       "      <th>2</th>\n",
       "      <td>41</td>\n",
       "      <td>0</td>\n",
       "      <td>1</td>\n",
       "      <td>130</td>\n",
       "      <td>204</td>\n",
       "      <td>0</td>\n",
       "      <td>0</td>\n",
       "      <td>172</td>\n",
       "      <td>0</td>\n",
       "      <td>1.4</td>\n",
       "      <td>2</td>\n",
       "      <td>0</td>\n",
       "      <td>2</td>\n",
       "      <td>1</td>\n",
       "    </tr>\n",
       "    <tr>\n",
       "      <th>3</th>\n",
       "      <td>56</td>\n",
       "      <td>1</td>\n",
       "      <td>1</td>\n",
       "      <td>120</td>\n",
       "      <td>236</td>\n",
       "      <td>0</td>\n",
       "      <td>1</td>\n",
       "      <td>178</td>\n",
       "      <td>0</td>\n",
       "      <td>0.8</td>\n",
       "      <td>2</td>\n",
       "      <td>0</td>\n",
       "      <td>2</td>\n",
       "      <td>1</td>\n",
       "    </tr>\n",
       "    <tr>\n",
       "      <th>4</th>\n",
       "      <td>57</td>\n",
       "      <td>0</td>\n",
       "      <td>0</td>\n",
       "      <td>120</td>\n",
       "      <td>354</td>\n",
       "      <td>0</td>\n",
       "      <td>1</td>\n",
       "      <td>163</td>\n",
       "      <td>1</td>\n",
       "      <td>0.6</td>\n",
       "      <td>2</td>\n",
       "      <td>0</td>\n",
       "      <td>2</td>\n",
       "      <td>1</td>\n",
       "    </tr>\n",
       "  </tbody>\n",
       "</table>\n",
       "</div>"
      ],
      "text/plain": [
       "   Age  Sex  Chest Pain Type  Blood Pressure  Cholestrol  Blood Sugar  \\\n",
       "0   63    1                3             145         233            1   \n",
       "1   37    1                2             130         250            0   \n",
       "2   41    0                1             130         204            0   \n",
       "3   56    1                1             120         236            0   \n",
       "4   57    0                0             120         354            0   \n",
       "\n",
       "   Electrocardiac Measurement at Rest  Maximum Heart Rate  \\\n",
       "0                                   0                 150   \n",
       "1                                   1                 187   \n",
       "2                                   0                 172   \n",
       "3                                   1                 178   \n",
       "4                                   1                 163   \n",
       "\n",
       "   Exercise indused Angina  ST Depression Induced  \\\n",
       "0                        0                    2.3   \n",
       "1                        0                    3.5   \n",
       "2                        0                    1.4   \n",
       "3                        0                    0.8   \n",
       "4                        1                    0.6   \n",
       "\n",
       "   Slope of Peak Exercise ST Segment  Number of Major Vessels  Thalassemia  \\\n",
       "0                                  0                        0            1   \n",
       "1                                  0                        0            2   \n",
       "2                                  2                        0            2   \n",
       "3                                  2                        0            2   \n",
       "4                                  2                        0            2   \n",
       "\n",
       "   Prediction  \n",
       "0           1  \n",
       "1           1  \n",
       "2           1  \n",
       "3           1  \n",
       "4           1  "
      ]
     },
     "execution_count": 2,
     "metadata": {},
     "output_type": "execute_result"
    }
   ],
   "source": [
    "\n",
    "def __iter__(self): return 0\n",
    "\n",
    "# @hidden_cell\n",
    "# The following code accesses a file in your IBM Cloud Object Storage. It includes your credentials.\n",
    "# You might want to remove those credentials before you share the notebook.\n",
    "client_ca8b4c1c6be2472b955e8983984f462d = ibm_boto3.client(service_name='s3',\n",
    "    ibm_api_key_id='1l85oUhvIuM0S92To0wdHCK0-rV3QeYYio_pAavVHF0P',\n",
    "    ibm_auth_endpoint=\"https://iam.cloud.ibm.com/oidc/token\",\n",
    "    config=Config(signature_version='oauth'),\n",
    "    endpoint_url='https://s3.eu-geo.objectstorage.service.networklayer.com')\n",
    "\n",
    "body = client_ca8b4c1c6be2472b955e8983984f462d.get_object(Bucket='heartdiseasepredictor-donotdelete-pr-5aiq3vpa4djezf',Key='Final.csv')['Body']\n",
    "# add missing __iter__ method, so pandas accepts body as file-like object\n",
    "if not hasattr(body, \"__iter__\"): body.__iter__ = types.MethodType( __iter__, body )\n",
    "\n",
    "initial_data = pd.read_csv(body)\n",
    "initial_data.head()\n"
   ]
  },
  {
   "cell_type": "code",
   "execution_count": 3,
   "metadata": {},
   "outputs": [
    {
     "data": {
      "text/plain": [
       "Text(0.5, 1.0, 'BoxPlot plotted between Age & Predictions')"
      ]
     },
     "execution_count": 3,
     "metadata": {},
     "output_type": "execute_result"
    },
    {
     "data": {
      "image/png": "[encoded data removed]",
      "text/plain": [
       "<Figure size 360x360 with 1 Axes>"
      ]
     },
     "metadata": {
      "needs_background": "light"
     },
     "output_type": "display_data"
    }
   ],
   "source": [
    "#analysis and visualization\n",
    "sns.catplot(x=\"Prediction\", y=\"Age\", kind=\"box\", data=initial_data)\n",
    "plt.title(\"BoxPlot plotted between Age & Predictions\")"
   ]
  },
  {
   "cell_type": "code",
   "execution_count": 4,
   "metadata": {},
   "outputs": [
    {
     "data": {
      "text/plain": [
       "Text(0.5, 1.0, 'BoxPlot plotted between Blood Pressure & Predictions')"
      ]
     },
     "execution_count": 4,
     "metadata": {},
     "output_type": "execute_result"
    },
    {
     "data": {
      "image/png": "[encoded data removed]",
      "text/plain": [
       "<Figure size 360x360 with 1 Axes>"
      ]
     },
     "metadata": {
      "needs_background": "light"
     },
     "output_type": "display_data"
    }
   ],
   "source": [
    "#analysis and visualization\n",
    "sns.catplot(x=\"Prediction\", y=\"Blood Pressure\", kind=\"box\", data=initial_data)\n",
    "plt.title(\"BoxPlot plotted between Blood Pressure & Predictions\")"
   ]
  },
  {
   "cell_type": "code",
   "execution_count": 5,
   "metadata": {},
   "outputs": [
    {
     "data": {
      "text/plain": [
       "Text(0.5, 1.0, 'BoxPlot plotted between Chholestrol & Predictions')"
      ]
     },
     "execution_count": 5,
     "metadata": {},
     "output_type": "execute_result"
    },
    {
     "data": {
      "image/png": "[encoded data removed]",
      "text/plain": [
       "<Figure size 360x360 with 1 Axes>"
      ]
     },
     "metadata": {
      "needs_background": "light"
     },
     "output_type": "display_data"
    }
   ],
   "source": [
    "#analysis and visualization\n",
    "sns.catplot(x=\"Prediction\", y=\"Cholestrol\", kind=\"box\", data=initial_data)\n",
    "plt.title(\"BoxPlot plotted between Chholestrol & Predictions\")"
   ]
  },
  {
   "cell_type": "code",
   "execution_count": 6,
   "metadata": {
    "scrolled": false
   },
   "outputs": [
    {
     "data": {
      "text/plain": [
       "Text(0.5, 1.0, 'BoxPlot plotted between Maximum Heart Rate & Predictions')"
      ]
     },
     "execution_count": 6,
     "metadata": {},
     "output_type": "execute_result"
    },
    {
     "data": {
      "image/png": "[encoded data removed]",
      "text/plain": [
       "<Figure size 360x360 with 1 Axes>"
      ]
     },
     "metadata": {
      "needs_background": "light"
     },
     "output_type": "display_data"
    }
   ],
   "source": [
    "#analysis and visualization\n",
    "sns.catplot(x=\"Prediction\",y=\"Maximum Heart Rate\", kind=\"box\", data=initial_data)\n",
    "plt.title(\"BoxPlot plotted between Maximum Heart Rate & Predictions\")"
   ]
  },
  {
   "cell_type": "code",
   "execution_count": 7,
   "metadata": {},
   "outputs": [
    {
     "data": {
      "text/plain": [
       "Text(0.5, 1.0, 'BoxPlot plotted between ST Depression Induced & Predictions')"
      ]
     },
     "execution_count": 7,
     "metadata": {},
     "output_type": "execute_result"
    },
    {
     "data": {
      "image/png": "[encoded data removed]",
      "text/plain": [
       "<Figure size 360x360 with 1 Axes>"
      ]
     },
     "metadata": {
      "needs_background": "light"
     },
     "output_type": "display_data"
    }
   ],
   "source": [
    "#analysis and visualization\n",
    "sns.catplot(x=\"Prediction\",y=\"ST Depression Induced\", kind=\"box\", data=initial_data)\n",
    "plt.title(\"BoxPlot plotted between ST Depression Induced & Predictions\")"
   ]
  },
  {
   "cell_type": "code",
   "execution_count": 8,
   "metadata": {},
   "outputs": [
    {
     "data": {
      "text/plain": [
       "Text(0.5, 1.0, 'Relationship between Chest Pain Type & Predicitons')"
      ]
     },
     "execution_count": 8,
     "metadata": {},
     "output_type": "execute_result"
    },
    {
     "data": {
      "image/png": "[encoded data removed]",
      "text/plain": [
       "<Figure size 432x288 with 1 Axes>"
      ]
     },
     "metadata": {
      "needs_background": "light"
     },
     "output_type": "display_data"
    }
   ],
   "source": [
    "#analysis and visualization\n",
    "sns.countplot(x=\"Prediction\", hue=\"Chest Pain Type\" , data=initial_data)\n",
    "plt.title(\"Relationship between Chest Pain Type & Predicitons\")"
   ]
  },
  {
   "cell_type": "code",
   "execution_count": 9,
   "metadata": {},
   "outputs": [
    {
     "data": {
      "text/plain": [
       "Text(0.5, 1.0, 'Relationship between Blood Sugar & Predicitons')"
      ]
     },
     "execution_count": 9,
     "metadata": {},
     "output_type": "execute_result"
    },
    {
     "data": {
      "image/png": "[encoded data removed]",
      "text/plain": [
       "<Figure size 432x288 with 1 Axes>"
      ]
     },
     "metadata": {
      "needs_background": "light"
     },
     "output_type": "display_data"
    }
   ],
   "source": [
    "#analysis and visualization\n",
    "sns.countplot(x=\"Prediction\", hue=\"Blood Sugar\" , data=initial_data)\n",
    "plt.title(\"Relationship between Blood Sugar & Predicitons\")"
   ]
  },
  {
   "cell_type": "code",
   "execution_count": 10,
   "metadata": {},
   "outputs": [
    {
     "data": {
      "text/plain": [
       "Text(0.5, 1.0, 'Relationship between Sex & Predicitons')"
      ]
     },
     "execution_count": 10,
     "metadata": {},
     "output_type": "execute_result"
    },
    {
     "data": {
      "image/png": "[encoded data removed]",
      "text/plain": [
       "<Figure size 432x288 with 1 Axes>"
      ]
     },
     "metadata": {
      "needs_background": "light"
     },
     "output_type": "display_data"
    }
   ],
   "source": [
    "#analysis and visualization\n",
    "sns.countplot(x=\"Prediction\", hue=\"Sex\" , data=initial_data)\n",
    "plt.title(\"Relationship between Sex & Predicitons\")"
   ]
  },
  {
   "cell_type": "code",
   "execution_count": 11,
   "metadata": {},
   "outputs": [
    {
     "data": {
      "text/plain": [
       "Text(0.5, 1.0, 'Relationship between Electrocardiac Measurement at Rest & Predicitons')"
      ]
     },
     "execution_count": 11,
     "metadata": {},
     "output_type": "execute_result"
    },
    {
     "data": {
      "image/png": "[encoded data removed]",
      "text/plain": [
       "<Figure size 432x288 with 1 Axes>"
      ]
     },
     "metadata": {
      "needs_background": "light"
     },
     "output_type": "display_data"
    }
   ],
   "source": [
    "#analysis and visualization\n",
    "sns.countplot(x=\"Prediction\", hue=\"Electrocardiac Measurement at Rest\" , data=initial_data)\n",
    "plt.title(\"Relationship between Electrocardiac Measurement at Rest & Predicitons\")"
   ]
  },
  {
   "cell_type": "code",
   "execution_count": 12,
   "metadata": {},
   "outputs": [
    {
     "data": {
      "text/plain": [
       "Text(0.5, 1.0, 'Relationship between Exercise indused Angina & Predicitons')"
      ]
     },
     "execution_count": 12,
     "metadata": {},
     "output_type": "execute_result"
    },
    {
     "data": {
      "image/png": "[encoded data removed]",
      "text/plain": [
       "<Figure size 432x288 with 1 Axes>"
      ]
     },
     "metadata": {
      "needs_background": "light"
     },
     "output_type": "display_data"
    }
   ],
   "source": [
    "#analysis and visualization\n",
    "sns.countplot(x=\"Prediction\", hue=\"Exercise indused Angina\" , data=initial_data)\n",
    "plt.title(\"Relationship between Exercise indused Angina & Predicitons\")"
   ]
  },
  {
   "cell_type": "code",
   "execution_count": 13,
   "metadata": {},
   "outputs": [
    {
     "data": {
      "text/plain": [
       "Text(0.5, 1.0, 'Relationship between Slope of Peak Exercise ST Segment & Predicitons')"
      ]
     },
     "execution_count": 13,
     "metadata": {},
     "output_type": "execute_result"
    },
    {
     "data": {
      "image/png": "[encoded data removed]",
      "text/plain": [
       "<Figure size 432x288 with 1 Axes>"
      ]
     },
     "metadata": {
      "needs_background": "light"
     },
     "output_type": "display_data"
    }
   ],
   "source": [
    "#analysis and visualization\n",
    "sns.countplot(x=\"Prediction\", hue=\"Slope of Peak Exercise ST Segment\" , data=initial_data)\n",
    "plt.title(\"Relationship between Slope of Peak Exercise ST Segment & Predicitons\")"
   ]
  },
  {
   "cell_type": "code",
   "execution_count": 14,
   "metadata": {},
   "outputs": [
    {
     "data": {
      "text/plain": [
       "Text(0.5, 1.0, 'Relationship between Number of Major Vessels & Predicitons')"
      ]
     },
     "execution_count": 14,
     "metadata": {},
     "output_type": "execute_result"
    },
    {
     "data": {
      "image/png": "[encoded data removed]",
      "text/plain": [
       "<Figure size 432x288 with 1 Axes>"
      ]
     },
     "metadata": {
      "needs_background": "light"
     },
     "output_type": "display_data"
    }
   ],
   "source": [
    "#analysis and visualization\n",
    "sns.countplot(x=\"Prediction\", hue=\"Number of Major Vessels\" , data=initial_data)\n",
    "plt.title(\"Relationship between Number of Major Vessels & Predicitons\")"
   ]
  },
  {
   "cell_type": "code",
   "execution_count": 15,
   "metadata": {},
   "outputs": [
    {
     "data": {
      "text/plain": [
       "Text(0.5, 1.0, 'Relationship between Thalassemia & Predicitons')"
      ]
     },
     "execution_count": 15,
     "metadata": {},
     "output_type": "execute_result"
    },
    {
     "data": {
      "image/png": "[encoded data removed]",
      "text/plain": [
       "<Figure size 432x288 with 1 Axes>"
      ]
     },
     "metadata": {
      "needs_background": "light"
     },
     "output_type": "display_data"
    }
   ],
   "source": [
    "#analysis and visualization\n",
    "sns.countplot(x=\"Prediction\", hue=\"Thalassemia\" , data=initial_data)\n",
    "plt.title(\"Relationship between Thalassemia & Predicitons\")"
   ]
  },
  {
   "cell_type": "code",
   "execution_count": 16,
   "metadata": {},
   "outputs": [],
   "source": [
    "#creating a new dataframe excluding the target variable.\n",
    "independent_data = initial_data[['Age','Sex','Chest Pain Type','Blood Pressure','Cholestrol','Blood Sugar',\n",
    "                                'Electrocardiac Measurement at Rest','Maximum Heart Rate','Exercise indused Angina',\n",
    "                                 'ST Depression Induced','Slope of Peak Exercise ST Segment','Number of Major Vessels',\n",
    "                                'Thalassemia']]"
   ]
  },
  {
   "cell_type": "code",
   "execution_count": 17,
   "metadata": {},
   "outputs": [],
   "source": [
    "#a new data frame having only the target variable.\n",
    "dependent_data = initial_data[['Prediction']]"
   ]
  },
  {
   "cell_type": "code",
   "execution_count": 18,
   "metadata": {},
   "outputs": [
    {
     "data": {
      "text/html": [
       "<div>\n",
       "<style scoped>\n",
       "    .dataframe tbody tr th:only-of-type {\n",
       "        vertical-align: middle;\n",
       "    }\n",
       "\n",
       "    .dataframe tbody tr th {\n",
       "        vertical-align: top;\n",
       "    }\n",
       "\n",
       "    .dataframe thead th {\n",
       "        text-align: right;\n",
       "    }\n",
       "</style>\n",
       "<table border=\"1\" class=\"dataframe\">\n",
       "  <thead>\n",
       "    <tr style=\"text-align: right;\">\n",
       "      <th></th>\n",
       "      <th>Age</th>\n",
       "      <th>Sex</th>\n",
       "      <th>Chest Pain Type</th>\n",
       "      <th>Blood Pressure</th>\n",
       "      <th>Cholestrol</th>\n",
       "      <th>Blood Sugar</th>\n",
       "      <th>Electrocardiac Measurement at Rest</th>\n",
       "      <th>Maximum Heart Rate</th>\n",
       "      <th>Exercise indused Angina</th>\n",
       "      <th>ST Depression Induced</th>\n",
       "      <th>Slope of Peak Exercise ST Segment</th>\n",
       "      <th>Number of Major Vessels</th>\n",
       "      <th>Thalassemia</th>\n",
       "    </tr>\n",
       "  </thead>\n",
       "  <tbody>\n",
       "    <tr>\n",
       "      <th>0</th>\n",
       "      <td>63</td>\n",
       "      <td>1</td>\n",
       "      <td>3</td>\n",
       "      <td>145</td>\n",
       "      <td>233</td>\n",
       "      <td>1</td>\n",
       "      <td>0</td>\n",
       "      <td>150</td>\n",
       "      <td>0</td>\n",
       "      <td>2.3</td>\n",
       "      <td>0</td>\n",
       "      <td>0</td>\n",
       "      <td>1</td>\n",
       "    </tr>\n",
       "    <tr>\n",
       "      <th>1</th>\n",
       "      <td>37</td>\n",
       "      <td>1</td>\n",
       "      <td>2</td>\n",
       "      <td>130</td>\n",
       "      <td>250</td>\n",
       "      <td>0</td>\n",
       "      <td>1</td>\n",
       "      <td>187</td>\n",
       "      <td>0</td>\n",
       "      <td>3.5</td>\n",
       "      <td>0</td>\n",
       "      <td>0</td>\n",
       "      <td>2</td>\n",
       "    </tr>\n",
       "  </tbody>\n",
       "</table>\n",
       "</div>"
      ],
      "text/plain": [
       "   Age  Sex  Chest Pain Type  Blood Pressure  Cholestrol  Blood Sugar  \\\n",
       "0   63    1                3             145         233            1   \n",
       "1   37    1                2             130         250            0   \n",
       "\n",
       "   Electrocardiac Measurement at Rest  Maximum Heart Rate  \\\n",
       "0                                   0                 150   \n",
       "1                                   1                 187   \n",
       "\n",
       "   Exercise indused Angina  ST Depression Induced  \\\n",
       "0                        0                    2.3   \n",
       "1                        0                    3.5   \n",
       "\n",
       "   Slope of Peak Exercise ST Segment  Number of Major Vessels  Thalassemia  \n",
       "0                                  0                        0            1  \n",
       "1                                  0                        0            2  "
      ]
     },
     "execution_count": 18,
     "metadata": {},
     "output_type": "execute_result"
    }
   ],
   "source": [
    "#verifying independent_data dataframe.\n",
    "independent_data.head(2)"
   ]
  },
  {
   "cell_type": "code",
   "execution_count": 19,
   "metadata": {},
   "outputs": [
    {
     "data": {
      "text/html": [
       "<div>\n",
       "<style scoped>\n",
       "    .dataframe tbody tr th:only-of-type {\n",
       "        vertical-align: middle;\n",
       "    }\n",
       "\n",
       "    .dataframe tbody tr th {\n",
       "        vertical-align: top;\n",
       "    }\n",
       "\n",
       "    .dataframe thead th {\n",
       "        text-align: right;\n",
       "    }\n",
       "</style>\n",
       "<table border=\"1\" class=\"dataframe\">\n",
       "  <thead>\n",
       "    <tr style=\"text-align: right;\">\n",
       "      <th></th>\n",
       "      <th>Prediction</th>\n",
       "    </tr>\n",
       "  </thead>\n",
       "  <tbody>\n",
       "    <tr>\n",
       "      <th>0</th>\n",
       "      <td>1</td>\n",
       "    </tr>\n",
       "    <tr>\n",
       "      <th>1</th>\n",
       "      <td>1</td>\n",
       "    </tr>\n",
       "  </tbody>\n",
       "</table>\n",
       "</div>"
      ],
      "text/plain": [
       "   Prediction\n",
       "0           1\n",
       "1           1"
      ]
     },
     "execution_count": 19,
     "metadata": {},
     "output_type": "execute_result"
    }
   ],
   "source": [
    "#verifying dependent_data dataframe.\n",
    "dependent_data.head(2)"
   ]
  },
  {
   "cell_type": "code",
   "execution_count": 20,
   "metadata": {},
   "outputs": [
    {
     "data": {
      "text/plain": [
       "1    165\n",
       "0    138\n",
       "Name: Prediction, dtype: int64"
      ]
     },
     "execution_count": 20,
     "metadata": {},
     "output_type": "execute_result"
    }
   ],
   "source": [
    "#Checking the values present in the target variable,\n",
    "#1-Probable of suffering from a heart disease,\n",
    "#0-Not a probable.\n",
    "#So, the data set consists of 165 entries of people suffering from a heart diesease,\n",
    "#And 138 entries of people not suffering from the same.\n",
    "dependent_data['Prediction'].value_counts()"
   ]
  },
  {
   "cell_type": "code",
   "execution_count": 21,
   "metadata": {},
   "outputs": [],
   "source": [
    "#converting the dataframe to numpy array to use the scikit learn library.\n",
    "independent_data_holder = independent_data[['Age','Sex','Chest Pain Type','Blood Pressure','Cholestrol','Blood Sugar',\n",
    "                                'Electrocardiac Measurement at Rest','Maximum Heart Rate','Exercise indused Angina',\n",
    "                                 'ST Depression Induced','Slope of Peak Exercise ST Segment','Number of Major Vessels',\n",
    "                                'Thalassemia']].values"
   ]
  },
  {
   "cell_type": "code",
   "execution_count": 22,
   "metadata": {
    "scrolled": false
   },
   "outputs": [],
   "source": [
    "#converting the dataframe to numpy array to use the scikit learn library\n",
    "dependent_data_holder = dependent_data['Prediction'].values"
   ]
  },
  {
   "cell_type": "code",
   "execution_count": 23,
   "metadata": {},
   "outputs": [],
   "source": [
    "#preproceesing the data.\n",
    "independent_data_holder = preprocessing.StandardScaler().fit(independent_data_holder).transform(independent_data_holder.astype(float))"
   ]
  },
  {
   "cell_type": "code",
   "execution_count": 24,
   "metadata": {},
   "outputs": [
    {
     "name": "stdout",
     "output_type": "stream",
     "text": [
      "Train dataset:  (242, 13) (242,)\n",
      "Test dataset:  (61, 13) (61,)\n"
     ]
    }
   ],
   "source": [
    "#splitting data into training and testing sets.\n",
    "ind_train, ind_test, dep_train, dep_test = train_test_split(independent_data_holder,dependent_data_holder, test_size=0.2, \n",
    "                                                           random_state=4)\n",
    "print(\"Train dataset: \",ind_train.shape,dep_train.shape)\n",
    "print(\"Test dataset: \",ind_test.shape,dep_test.shape)"
   ]
  },
  {
   "cell_type": "code",
   "execution_count": 25,
   "metadata": {},
   "outputs": [
    {
     "name": "stdout",
     "output_type": "stream",
     "text": [
      "The best accuracy was with:  0.8524590163934426 with k = 10\n"
     ]
    }
   ],
   "source": [
    "#selecting the best accurate k in the k-nearest neighbors.\n",
    "ks = 15\n",
    "mean = np.zeros((ks-1))\n",
    "std = np.zeros((ks-1))\n",
    "for n in range (1,ks):\n",
    "    x = KNeighborsClassifier(n_neighbors = n,).fit(ind_train,dep_train.ravel())\n",
    "    y = x.predict(ind_test)\n",
    "    mean[n-1] = metrics.accuracy_score(dep_test, y)\n",
    "    std[n-1] = np.std(y==dep_test)/np.sqrt(y.shape[0])\n",
    "print( \"The best accuracy was with: \", mean.max(), \"with k =\", mean.argmax()+1) "
   ]
  },
  {
   "cell_type": "code",
   "execution_count": 26,
   "metadata": {},
   "outputs": [
    {
     "data": {
      "image/png": "[encoded data removed]",
      "text/plain": [
       "<Figure size 432x288 with 1 Axes>"
      ]
     },
     "metadata": {
      "needs_background": "light"
     },
     "output_type": "display_data"
    }
   ],
   "source": [
    "#plotting the accuracy for all k's chosen previously.\n",
    "plt.plot(range(1,ks),mean,'g')\n",
    "plt.xlabel(\"Number of Neighbors (K)\")\n",
    "plt.ylabel(\"Accuracy\")\n",
    "plt.legend((\"Accuracy\",))\n",
    "plt.show()\n"
   ]
  },
  {
   "cell_type": "code",
   "execution_count": 27,
   "metadata": {},
   "outputs": [],
   "source": [
    "#so 10 being the best K, k is initialized to 10.\n",
    "#training the model now,\n",
    "final_k = 10\n",
    "my_model = KNeighborsClassifier(n_neighbors = final_k).fit(ind_train,dep_train.ravel())"
   ]
  },
  {
   "cell_type": "code",
   "execution_count": 28,
   "metadata": {},
   "outputs": [],
   "source": [
    "#predicting using the model built\n",
    "predictions = my_model.predict(ind_test)"
   ]
  },
  {
   "cell_type": "code",
   "execution_count": 29,
   "metadata": {},
   "outputs": [
    {
     "name": "stdout",
     "output_type": "stream",
     "text": [
      "Model-1's Jaccard Accuracy:  0.8524590163934426\n",
      "Model-1's F1-Score Accuracy:  0.853660164156861\n"
     ]
    }
   ],
   "source": [
    "#calculating accuracy again using final_k = 10\n",
    "print(\"Model-1's Jaccard Accuracy: \", metrics.accuracy_score(dep_test, predictions))\n",
    "print(\"Model-1's F1-Score Accuracy: \", f1_score(dep_test,predictions, average='weighted'))"
   ]
  },
  {
   "cell_type": "code",
   "execution_count": 30,
   "metadata": {},
   "outputs": [],
   "source": [
    "#building model using the decision tree classification algorithm\n",
    "my_model_2 = DecisionTreeClassifier(criterion=\"entropy\", max_depth = 4)\n",
    "my_model_2.fit(ind_train,dep_train.ravel())\n",
    "predictions_2 = my_model_2.predict(ind_test)"
   ]
  },
  {
   "cell_type": "code",
   "execution_count": 31,
   "metadata": {},
   "outputs": [
    {
     "name": "stdout",
     "output_type": "stream",
     "text": [
      "Model-2's Jaccard Accuracy:  0.8524590163934426\n",
      "Model-2's F1-Score Accuracy:  0.8507010812696197\n"
     ]
    }
   ],
   "source": [
    "#calculating accuracy of model built using decision tree classification algorithm\n",
    "print(\"Model-2's Jaccard Accuracy: \", metrics.accuracy_score(dep_test, predictions_2))\n",
    "print(\"Model-2's F1-Score Accuracy: \", f1_score(dep_test,predictions_2, average='weighted'))"
   ]
  },
  {
   "cell_type": "code",
   "execution_count": 32,
   "metadata": {},
   "outputs": [],
   "source": [
    "#building model using SVM\n",
    "my_model_3 = svm.SVC(kernel='rbf', gamma='auto')\n",
    "my_model_3.fit(ind_train, dep_train.ravel())\n",
    "predictions_3 = my_model_3.predict(ind_test)"
   ]
  },
  {
   "cell_type": "code",
   "execution_count": 33,
   "metadata": {},
   "outputs": [
    {
     "name": "stdout",
     "output_type": "stream",
     "text": [
      "Model-3's Jaccard Accuracy:  0.8688524590163934\n",
      "Model-3's F1-Score Accuracy:  0.8699169682776241\n"
     ]
    }
   ],
   "source": [
    "#calculating accuracy of model built using SVM\n",
    "print(\"Model-3's Jaccard Accuracy: \", metrics.accuracy_score(dep_test, predictions_3))\n",
    "print(\"Model-3's F1-Score Accuracy: \", f1_score(dep_test,predictions_3, average='weighted'))"
   ]
  },
  {
   "cell_type": "code",
   "execution_count": 34,
   "metadata": {},
   "outputs": [
    {
     "data": {
      "text/plain": [
       "array([[0.37631007, 0.62368993],\n",
       "       [0.72008853, 0.27991147],\n",
       "       [0.40239548, 0.59760452],\n",
       "       [0.19110398, 0.80889602],\n",
       "       [0.40269454, 0.59730546],\n",
       "       [0.5020939 , 0.4979061 ],\n",
       "       [0.63153146, 0.36846854],\n",
       "       [0.23317107, 0.76682893],\n",
       "       [0.49337482, 0.50662518],\n",
       "       [0.36550033, 0.63449967],\n",
       "       [0.4291565 , 0.5708435 ],\n",
       "       [0.20223981, 0.79776019],\n",
       "       [0.39380703, 0.60619297],\n",
       "       [0.56885837, 0.43114163],\n",
       "       [0.33174526, 0.66825474],\n",
       "       [0.86267505, 0.13732495],\n",
       "       [0.29399232, 0.70600768],\n",
       "       [0.29111268, 0.70888732],\n",
       "       [0.6773343 , 0.3226657 ],\n",
       "       [0.45853907, 0.54146093],\n",
       "       [0.24193055, 0.75806945],\n",
       "       [0.3911356 , 0.6088644 ],\n",
       "       [0.80506229, 0.19493771],\n",
       "       [0.46215773, 0.53784227],\n",
       "       [0.45177731, 0.54822269],\n",
       "       [0.75409356, 0.24590644],\n",
       "       [0.58954187, 0.41045813],\n",
       "       [0.22639078, 0.77360922],\n",
       "       [0.43524412, 0.56475588],\n",
       "       [0.80517928, 0.19482072],\n",
       "       [0.58323074, 0.41676926],\n",
       "       [0.50205982, 0.49794018],\n",
       "       [0.18829477, 0.81170523],\n",
       "       [0.36488744, 0.63511256],\n",
       "       [0.4348596 , 0.5651404 ],\n",
       "       [0.24763171, 0.75236829],\n",
       "       [0.24975292, 0.75024708],\n",
       "       [0.40633413, 0.59366587],\n",
       "       [0.48364122, 0.51635878],\n",
       "       [0.83187101, 0.16812899],\n",
       "       [0.7963075 , 0.2036925 ],\n",
       "       [0.69448494, 0.30551506],\n",
       "       [0.72251993, 0.27748007],\n",
       "       [0.40482572, 0.59517428],\n",
       "       [0.26259582, 0.73740418],\n",
       "       [0.40649522, 0.59350478],\n",
       "       [0.74058055, 0.25941945],\n",
       "       [0.52942259, 0.47057741],\n",
       "       [0.70246967, 0.29753033],\n",
       "       [0.32377141, 0.67622859],\n",
       "       [0.78159582, 0.21840418],\n",
       "       [0.45123399, 0.54876601],\n",
       "       [0.7084683 , 0.2915317 ],\n",
       "       [0.51005868, 0.48994132],\n",
       "       [0.30602607, 0.69397393],\n",
       "       [0.12831289, 0.87168711],\n",
       "       [0.291633  , 0.708367  ],\n",
       "       [0.27804226, 0.72195774],\n",
       "       [0.88234361, 0.11765639],\n",
       "       [0.75163966, 0.24836034],\n",
       "       [0.21939848, 0.78060152]])"
      ]
     },
     "execution_count": 34,
     "metadata": {},
     "output_type": "execute_result"
    }
   ],
   "source": [
    "#building model using logisitic regression\n",
    "my_model_4 = LogisticRegression(C=0.01, solver='liblinear').fit(ind_train,dep_train.ravel())\n",
    "predictions_4 = my_model_4.predict(ind_test)\n",
    "pre_4_prob = my_model_4.predict_proba(ind_test)\n",
    "pre_4_prob"
   ]
  },
  {
   "cell_type": "code",
   "execution_count": 35,
   "metadata": {},
   "outputs": [
    {
     "name": "stdout",
     "output_type": "stream",
     "text": [
      "Model-4's Jaccard Accuracy:  0.8852459016393442\n",
      "Model-4's F1-Score Accuracy:  0.8848609284270637\n",
      "Model-4's Log Loss Accuracy:  0.4363789674264379\n"
     ]
    }
   ],
   "source": [
    "#calculating accuracy of model built using logistic regression\n",
    "print(\"Model-4's Jaccard Accuracy: \", metrics.accuracy_score(dep_test, predictions_4))\n",
    "print(\"Model-4's F1-Score Accuracy: \", f1_score(dep_test,predictions_4, average='weighted'))\n",
    "print(\"Model-4's Log Loss Accuracy: \", log_loss(dep_test, pre_4_prob))"
   ]
  },
  {
   "cell_type": "code",
   "execution_count": null,
   "metadata": {},
   "outputs": [],
   "source": []
  }
 ],
 "metadata": {
  "kernelspec": {
   "display_name": "Python 3.6",
   "language": "python",
   "name": "python3"
  },
  "language_info": {
   "codemirror_mode": {
    "name": "ipython",
    "version": 3
   },
   "file_extension": ".py",
   "mimetype": "text/x-python",
   "name": "python",
   "nbconvert_exporter": "python",
   "pygments_lexer": "ipython3",
   "version": "3.6.9"
  }
 },
 "nbformat": 4,
 "nbformat_minor": 1
}
